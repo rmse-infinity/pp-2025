{
 "cells": [
  {
   "cell_type": "code",
   "execution_count": 8,
   "id": "ba9482ed-e104-467c-8004-0cd5dda3934a",
   "metadata": {},
   "outputs": [
    {
     "name": "stdout",
     "output_type": "stream",
     "text": [
      "Доступные команды:\n",
      "1. Обновить информацию о процессах (update)\n",
      "2. Отправить сигнал процессу (signal)\n",
      "3. Выход (exit)\n"
     ]
    },
    {
     "name": "stdin",
     "output_type": "stream",
     "text": [
      "Введите команду:  update\n"
     ]
    },
    {
     "name": "stdout",
     "output_type": "stream",
     "text": [
      "Данные сохранены в ./04-03-2025/11-03-49.json\n",
      "Доступные команды:\n",
      "1. Обновить информацию о процессах (update)\n",
      "2. Отправить сигнал процессу (signal)\n",
      "3. Выход (exit)\n"
     ]
    },
    {
     "name": "stdin",
     "output_type": "stream",
     "text": [
      "Введите команду:  signal\n",
      "Введите PID процесса:  12345678\n",
      "Введите тип сигнала (terminate/kill):  terminate\n"
     ]
    },
    {
     "name": "stdout",
     "output_type": "stream",
     "text": [
      "Доступные команды:\n",
      "1. Обновить информацию о процессах (update)\n",
      "2. Отправить сигнал процессу (signal)\n",
      "3. Выход (exit)\n"
     ]
    },
    {
     "name": "stdin",
     "output_type": "stream",
     "text": [
      "Введите команду:  exit\n"
     ]
    },
    {
     "name": "stdout",
     "output_type": "stream",
     "text": [
      "Завершаем работу клиента...\n"
     ]
    }
   ],
   "source": [
    "# клиент\n",
    "import socket\n",
    "import json\n",
    "import struct\n",
    "import os\n",
    "import time\n",
    "import logging\n",
    "\n",
    "logging.basicConfig(\n",
    "    filename='client_log.log',\n",
    "    level=logging.INFO,\n",
    "    format='%(asctime)s - %(levelname)s - %(message)s'\n",
    ")\n",
    "\n",
    "PORT = 5555\n",
    "FORMAT = 'utf-8'\n",
    "HOST = 'localhost'\n",
    "\n",
    "def create_save_path():\n",
    "    current_time = time.localtime()\n",
    "    date_dir = time.strftime(\"%d-%m-%Y\", current_time)\n",
    "    time_str = time.strftime(\"%H-%M-%S\", current_time)\n",
    "    save_path = f\"./{date_dir}/{time_str}.json\"\n",
    "    \n",
    "    if not os.path.exists(f\"./{date_dir}\"):\n",
    "        os.makedirs(f\"./{date_dir}\")\n",
    "    \n",
    "    return save_path\n",
    "\n",
    "def send_command(client_socket, command):\n",
    "    command_json = json.dumps(command)\n",
    "    command_length = struct.pack(\"I\", len(command_json))\n",
    "    client_socket.sendall(command_length)\n",
    "    client_socket.sendall(command_json.encode(FORMAT))\n",
    "\n",
    "def receive_file(client_socket, save_path):\n",
    "    with open(save_path, 'wb') as f:\n",
    "        while True:\n",
    "            data = client_socket.recv(1024)\n",
    "            if not data:\n",
    "                break\n",
    "            f.write(data)\n",
    "    logging.info(f\"Файл сохранен как {save_path}\")\n",
    "\n",
    "def send_signal(client_socket, pid, signal_type):\n",
    "    command = {\n",
    "        \"action\": \"signal\",\n",
    "        \"pid\": pid,\n",
    "        \"signal_type\": signal_type\n",
    "    }\n",
    "    send_command(client_socket, command)\n",
    "    logging.info(f\"Отправлен сигнал {signal_type} процессу с PID {pid}\")\n",
    "def start_client():\n",
    "    client_socket = socket.socket(socket.AF_INET, socket.SOCK_STREAM)\n",
    "    \n",
    "    try:\n",
    "        client_socket.connect((HOST, PORT))\n",
    "        logging.info(f\"Подключено к серверу {HOST}:{PORT}\")\n",
    "        \n",
    "        while True:\n",
    "            print(\"Доступные команды:\")\n",
    "            print(\"1. Обновить информацию о процессах (update)\")\n",
    "            print(\"2. Отправить сигнал процессу (signal)\")\n",
    "            print(\"3. Выход (exit)\")\n",
    "\n",
    "            user_input = input(\"Введите команду: \").strip().lower()\n",
    "            \n",
    "            if user_input == \"update\":\n",
    "                command = {\"action\": \"update\"}\n",
    "                send_command(client_socket, command)\n",
    "                \n",
    "                save_path = create_save_path()\n",
    "                receive_file(client_socket, save_path)\n",
    "                print(f\"Данные сохранены в {save_path}\")\n",
    "            \n",
    "            elif user_input == \"signal\":\n",
    "                pid = int(input(\"Введите PID процесса: \"))\n",
    "                signal_type = input(\"Введите тип сигнала (terminate/kill): \").strip().lower()\n",
    "                send_signal(client_socket, pid, signal_type)\n",
    "            \n",
    "            elif user_input == \"exit\":\n",
    "                print(\"Завершаем работу клиента...\")\n",
    "                break\n",
    "            \n",
    "            else:\n",
    "                print(\"Неизвестная команда. Попробуйте снова.\")\n",
    "    \n",
    "    except Exception as e:\n",
    "        logging.error(f\"Ошибка подключения к серверу: {e}\")\n",
    "        print(f\"Ошибка подключения: {e}\")\n",
    "    \n",
    "    finally:\n",
    "        logging.info(\"Соединение с сервером закрыто.\")\n",
    "        client_socket.close()\n",
    "\n",
    "if __name__ == \"__main__\":\n",
    "    start_client()\n"
   ]
  },
  {
   "cell_type": "code",
   "execution_count": null,
   "id": "fdad9709-939c-4c20-82fc-346f680bb774",
   "metadata": {},
   "outputs": [],
   "source": []
  }
 ],
 "metadata": {
  "kernelspec": {
   "display_name": "Python 3 (ipykernel)",
   "language": "python",
   "name": "python3"
  },
  "language_info": {
   "codemirror_mode": {
    "name": "ipython",
    "version": 3
   },
   "file_extension": ".py",
   "mimetype": "text/x-python",
   "name": "python",
   "nbconvert_exporter": "python",
   "pygments_lexer": "ipython3",
   "version": "3.12.4"
  }
 },
 "nbformat": 4,
 "nbformat_minor": 5
}
